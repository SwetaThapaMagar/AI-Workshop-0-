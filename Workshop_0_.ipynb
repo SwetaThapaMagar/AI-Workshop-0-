{
  "nbformat": 4,
  "nbformat_minor": 0,
  "metadata": {
    "colab": {
      "provenance": []
    },
    "kernelspec": {
      "name": "python3",
      "display_name": "Python 3"
    },
    "language_info": {
      "name": "python"
    }
  },
  "cells": [
    {
      "cell_type": "markdown",
      "source": [
        "Task 1\n",
        "\n",
        "Classify Temperatures :\n",
        "\n"
      ],
      "metadata": {
        "id": "gny-AHIJz2TF"
      }
    },
    {
      "cell_type": "code",
      "source": [],
      "metadata": {
        "colab": {
          "base_uri": "https://localhost:8080/"
        },
        "id": "EneN70iEqgom",
        "outputId": "eb546164-638f-47a6-d375-b85b2b6197dd"
      },
      "execution_count": 1,
      "outputs": [
        {
          "output_type": "stream",
          "name": "stdout",
          "text": [
            "Cold temperatures: [8.2, 7.9, 9.0, 8.5, 7.7, 8.4, 9.5, 8.1, 7.6, 8.0, 7.8, 8.7, 9.2, 8.3, 8.9, 7.8]\n",
            "Mild temperatures: [14.1, 13.5, 13.0, 12.9, 13.3, 14.0, 13.4, 14.2, 12.8, 13.7, 13.6, 13.8, 13.9, 12.7, 13.1, 12.5]\n",
            "Comfortable temperatures: [17.4, 18.0, 17.8, 16.5, 17.2, 16.7, 18.3, 17.9, 17.0, 16.8, 17.5, 17.1, 18.1, 16.4, 18.2, 16.6]\n"
          ]
        }
      ]
    },
    {
      "cell_type": "markdown",
      "source": [
        "Task 2\n",
        "#Based on Data - Answer all the Questions\n",
        ""
      ],
      "metadata": {
        "id": "jHbPwJpxqqf3"
      }
    },
    {
      "cell_type": "code",
      "source": [
        "temperatures= [\n",
        "    8.2, 17.4, 14.1, 7.9, 18.0, 13.5, 9.0, 17.8, 13.0, 8.5,\n",
        "    16.5, 12.9, 7.7, 17.2, 13.3, 8.4, 16.7, 14.0, 9.5, 18.3,\n",
        "    13.4, 8.1, 17.9, 14.2, 7.6, 17.0, 12.8, 8.0, 16.8, 13.7,\n",
        "    7.8, 17.5, 13.6, 8.7, 17.1, 13.8, 9.2, 18.1, 13.9, 8.3,\n",
        "    16.4, 12.7, 8.9, 18.2, 13.1, 7.8, 16.6, 12.5\n",
        "]\n",
        "\n",
        "cold=[]\n",
        "mild=[]\n",
        "comfortable=[]\n",
        "\n",
        "for temp in temperatures:\n",
        "    if temp < 10:\n",
        "        cold.append(temp)\n",
        "    elif 10 <= temp < 15:\n",
        "        mild.append(temp)\n",
        "    elif 15 <= temp < 20:\n",
        "        comfortable.append(temp)\n",
        "\n",
        "# Classify Temperatures :\n",
        "\n",
        "temperatures= [\n",
        "    8.2, 17.4, 14.1, 7.9, 18.0, 13.5, 9.0, 17.8, 13.0, 8.5,\n",
        "    16.5, 12.9, 7.7, 17.2, 13.3, 8.4, 16.7, 14.0, 9.5, 18.3,\n",
        "    13.4, 8.1, 17.9, 14.2, 7.6, 17.0, 12.8, 8.0, 16.8, 13.7,\n",
        "    7.8, 17.5, 13.6, 8.7, 17.1, 13.8, 9.2, 18.1, 13.9, 8.3,\n",
        "    16.4, 12.7, 8.9, 18.2, 13.1, 7.8, 16.6, 12.5\n",
        "]\n",
        "\n",
        "cold=[]\n",
        "mild=[]\n",
        "comfortable=[]\n",
        "\n",
        "for temp in temperatures:\n",
        "    if temp < 10:\n",
        "        cold.append(temp)\n",
        "    elif 10 <= temp < 15:\n",
        "        mild.append(temp)\n",
        "    elif 15 <= temp < 20:\n",
        "        comfortable.append(temp)\n",
        "\n",
        "cold_count = len(cold)\n",
        "mild_count = len(mild)\n",
        "comfortable_count = len(comfortable)\n",
        "\n",
        "\n",
        "print(\"Cold temperatures count is :\", cold_count)\n",
        "print(\"Mild temperatures count is :\", mild_count)\n",
        "print(\"Comfortable temperatures count is :\", comfortable_count)"
      ],
      "metadata": {
        "colab": {
          "base_uri": "https://localhost:8080/"
        },
        "id": "xpNtpfn0q02S",
        "outputId": "f45e0990-1204-4a18-8ef0-58f15f8dfcfd"
      },
      "execution_count": 2,
      "outputs": [
        {
          "output_type": "stream",
          "name": "stdout",
          "text": [
            "Cold temperatures count is : 16\n",
            "Mild temperatures count is : 16\n",
            "Comfortable temperatures count is : 16\n"
          ]
        }
      ]
    },
    {
      "cell_type": "markdown",
      "source": [
        "Task 3\n",
        "# Convert Temperatures from Celsius to Fahrenheit"
      ],
      "metadata": {
        "id": "SWjknTpBrKGn"
      }
    },
    {
      "cell_type": "code",
      "source": [
        "temperatures = [\n",
        "    8.2, 17.4, 14.1, 7.9, 18.0, 13.5, 9.0, 17.8, 13.0, 8.5,\n",
        "    16.5, 12.9, 7.7, 17.2, 13.3, 8.4, 16.7, 14.0, 9.5, 18.3,\n",
        "    13.4, 8.1, 17.9, 14.2, 7.6, 17.0, 12.8, 8.0, 16.8, 13.7,\n",
        "    7.8, 17.5, 13.6, 8.7, 17.1, 13.8, 9.2, 18.1, 13.9, 8.3,\n",
        "    16.4, 12.7, 8.9, 18.2, 13.1, 7.8, 16.6, 12.5\n",
        "]\n",
        "\n",
        "temperatures_fahrenheit = []\n",
        "\n",
        "for temp in temperatures:\n",
        "    fahrenheit = (temp * 9/5) + 32\n",
        "    temperatures_fahrenheit.append(fahrenheit)\n",
        "\n",
        "print(\"Temperatures in Fahrenheit:\")\n",
        "print(temperatures_fahrenheit)\n"
      ],
      "metadata": {
        "colab": {
          "base_uri": "https://localhost:8080/"
        },
        "id": "EACeloivrPta",
        "outputId": "c189725a-0195-4dfd-9cb5-3aae50f89ea6"
      },
      "execution_count": 3,
      "outputs": [
        {
          "output_type": "stream",
          "name": "stdout",
          "text": [
            "Temperatures in Fahrenheit:\n",
            "[46.76, 63.32, 57.379999999999995, 46.22, 64.4, 56.3, 48.2, 64.04, 55.4, 47.3, 61.7, 55.22, 45.86, 62.959999999999994, 55.94, 47.120000000000005, 62.059999999999995, 57.2, 49.1, 64.94, 56.120000000000005, 46.58, 64.22, 57.56, 45.68, 62.6, 55.04, 46.4, 62.24, 56.66, 46.04, 63.5, 56.48, 47.66, 62.78, 56.84, 48.56, 64.58, 57.02, 46.94, 61.519999999999996, 54.86, 48.02, 64.75999999999999, 55.58, 46.04, 61.88, 54.5]\n"
          ]
        }
      ]
    },
    {
      "cell_type": "markdown",
      "source": [
        "Task 4"
      ],
      "metadata": {
        "id": "Q39e8JKArU2i"
      }
    },
    {
      "cell_type": "code",
      "source": [
        "import matplotlib.pyplot as plt\n",
        "\n",
        "# Input temperatures\n",
        "temperatures = [\n",
        "    8.2, 17.4, 14.1, 7.9, 18.0, 13.5, 9.0, 17.8, 13.0, 8.5,\n",
        "    16.5, 12.9, 7.7, 17.2, 13.3, 8.4, 16.7, 14.0, 9.5, 18.3,\n",
        "    13.4, 8.1, 17.9, 14.2, 7.6, 17.0, 12.8, 8.0, 16.8, 13.7,\n",
        "    7.8, 17.5, 13.6, 8.7, 17.1, 13.8, 9.2, 18.1, 13.9, 8.3,\n",
        "    16.4, 12.7, 8.9, 18.2, 13.1, 7.8, 16.6, 12.5\n",
        "]\n",
        "\n",
        "# Initialize lists for time-of-day temperatures\n",
        "night_temps = []\n",
        "day_temps = []\n",
        "evening_temps = []\n",
        "\n",
        "# Assign temperatures to time-of-day lists\n",
        "for i, temp in enumerate(temperatures):\n",
        "    if i % 24 < 8:  # Night: 00-08\n",
        "        night_temps.append(temp)\n",
        "    elif 8 <= i % 24 < 16:  # Evening: 08-16\n",
        "        evening_temps.append(temp)\n",
        "    else:  # Day: 16-24\n",
        "        day_temps.append(temp)\n",
        "\n",
        "# Calculate the average day-time temperature\n",
        "if day_temps:\n",
        "    avg_day_temp = sum(day_temps) / len(day_temps)\n",
        "else:\n",
        "    avg_day_temp = None\n",
        "\n",
        "# Print results\n",
        "print(\"Night temperatures:\", night_temps)\n",
        "print(\"Evening temperatures:\", evening_temps)\n",
        "print(\"Day temperatures:\", day_temps)\n",
        "print(f\"Average day-time temperature: {avg_day_temp:.2f}°C\")\n",
        "\n",
        "# Optional: Plot \"day vs. temperature\"\n",
        "plt.figure(figsize=(10, 5))\n",
        "plt.plot(range(len(day_temps)), day_temps, marker='o', label='Day temperatures')\n",
        "plt.title(\"Day vs. Temperature\")\n",
        "plt.xlabel(\"Day Time (Index)\")\n",
        "plt.ylabel(\"Temperature (°C)\")\n",
        "plt.legend()\n",
        "plt.grid(True)\n",
        "plt.show()\n"
      ],
      "metadata": {
        "colab": {
          "base_uri": "https://localhost:8080/",
          "height": 556
        },
        "id": "PjjhB-ChrYJL",
        "outputId": "d2b3349d-3815-4c26-91c0-19927c429290"
      },
      "execution_count": 5,
      "outputs": [
        {
          "output_type": "stream",
          "name": "stdout",
          "text": [
            "Night temperatures: [8.2, 17.4, 14.1, 7.9, 18.0, 13.5, 9.0, 17.8, 7.6, 17.0, 12.8, 8.0, 16.8, 13.7, 7.8, 17.5]\n",
            "Evening temperatures: [13.0, 8.5, 16.5, 12.9, 7.7, 17.2, 13.3, 8.4, 13.6, 8.7, 17.1, 13.8, 9.2, 18.1, 13.9, 8.3]\n",
            "Day temperatures: [16.7, 14.0, 9.5, 18.3, 13.4, 8.1, 17.9, 14.2, 16.4, 12.7, 8.9, 18.2, 13.1, 7.8, 16.6, 12.5]\n",
            "Average day-time temperature: 13.64°C\n"
          ]
        },
        {
          "output_type": "display_data",
          "data": {
            "text/plain": [
              "<Figure size 1000x500 with 1 Axes>"
            ],
            "image/png": "[encoded data removed]"
          },
          "metadata": {}
        }
      ]
    },
    {
      "cell_type": "markdown",
      "source": [
        "8.1.1  Exercise - Recursion:\n",
        "\n",
        "Task 1 - Sum of Nested Lists:"
      ],
      "metadata": {
        "id": "KIdNFkNbsKgd"
      }
    },
    {
      "cell_type": "code",
      "source": [
        "def sum_nested_list(nested_list):\n",
        "    total = 0\n",
        "    for element in nested_list:\n",
        "        if isinstance(element, list):  # If the element is a list, recurse into it\n",
        "            total += sum_nested_list(element)\n",
        "        else:  # If the element is a number, add it to the sum\n",
        "            total += element\n",
        "    return total\n",
        "\n",
        "nested_list = [1, [2, [3, 4], 5], 6, [7, 8]]\n",
        "result = sum_nested_list(nested_list)\n",
        "print(result)\n"
      ],
      "metadata": {
        "colab": {
          "base_uri": "https://localhost:8080/"
        },
        "id": "1r_FpA1JsZJl",
        "outputId": "990deb98-f330-4b7d-ce63-df7e79490f7b"
      },
      "execution_count": 6,
      "outputs": [
        {
          "output_type": "stream",
          "name": "stdout",
          "text": [
            "36\n"
          ]
        }
      ]
    },
    {
      "cell_type": "markdown",
      "source": [
        "Task 2 - Generate All Permutations of a String:"
      ],
      "metadata": {
        "id": "qDDdi7t6tHGJ"
      }
    },
    {
      "cell_type": "code",
      "source": [
        "def generate_permutations(s):\n",
        "    def backtrack(start, s_list, result):\n",
        "\n",
        "        if start == len(s_list):\n",
        "            result.append(\"\".join(s_list))\n",
        "            return\n",
        "\n",
        "        # Set is used to avoid duplication\n",
        "        seen = set()\n",
        "\n",
        "        for i in range(start, len(s_list)):\n",
        "\n",
        "            if s_list[i] in seen:\n",
        "                continue\n",
        "            seen.add(s_list[i])\n",
        "\n",
        "\n",
        "            s_list[start], s_list[i] = s_list[i], s_list[start]\n",
        "\n",
        "\n",
        "            backtrack(start + 1, s_list, result)\n",
        "\n",
        "\n",
        "            s_list[start], s_list[i] = s_list[i], s_list[start]\n",
        "\n",
        "    result = []\n",
        "    s_list = list(s)\n",
        "    backtrack(0, s_list, result)\n",
        "    return result\n",
        "\n",
        "\n",
        "print(generate_permutations(\"abc\"))\n",
        "\n",
        "print(generate_permutations(\"aab\"))\n",
        "\n"
      ],
      "metadata": {
        "colab": {
          "base_uri": "https://localhost:8080/"
        },
        "id": "HlT8B7hXtNJ3",
        "outputId": "7bd4cf5c-5a67-4dab-c427-be0ab0d9202f"
      },
      "execution_count": 7,
      "outputs": [
        {
          "output_type": "stream",
          "name": "stdout",
          "text": [
            "['abc', 'acb', 'bac', 'bca', 'cba', 'cab']\n",
            "['aab', 'aba', 'baa']\n"
          ]
        }
      ]
    },
    {
      "cell_type": "markdown",
      "source": [
        "Task 3 - Directory Size Calculation:"
      ],
      "metadata": {
        "id": "JUAadL5awXp1"
      }
    },
    {
      "cell_type": "code",
      "source": [
        "def calculate_directory_size(directory):\n",
        "    total_size = 0\n",
        "\n",
        "    for item in directory:\n",
        "        # Check if the item is a file (i.e., the value is an integer)\n",
        "        if isinstance(directory[item], int):\n",
        "            total_size += directory[item]\n",
        "        # Check if the item is a subdirectory (i.e., the value is a dictionary)\n",
        "        elif isinstance(directory[item], dict):\n",
        "            total_size += calculate_directory_size(directory[item])  # Recurse into subdirectory\n",
        "\n",
        "    return total_size\n",
        "\n",
        "# Sample directory structure\n",
        "directory_structure = {\n",
        "    \"file1.txt\": 200,\n",
        "    \"file2.txt\": 300,\n",
        "    \"subdir1\": {\n",
        "        \"file3.txt\": 400,\n",
        "        \"file4.txt\": 100\n",
        "    },\n",
        "    \"subdir2\": {\n",
        "        \"subsubdir1\": {\n",
        "            \"file5.txt\": 250\n",
        "        }\n",
        "    }\n",
        "}\n",
        "\n",
        "# Testing the function with the sample structure\n",
        "print(f\"Total directory size: {calculate_directory_size(directory_structure)} KB\")\n"
      ],
      "metadata": {
        "colab": {
          "base_uri": "https://localhost:8080/"
        },
        "id": "ixRpo5PZwkFC",
        "outputId": "4108621c-e649-470b-b07b-f33a29971086"
      },
      "execution_count": 8,
      "outputs": [
        {
          "output_type": "stream",
          "name": "stdout",
          "text": [
            "Total directory size: 1250 KB\n"
          ]
        }
      ]
    },
    {
      "cell_type": "markdown",
      "source": [
        "# Task 1 - Coin Change Problem"
      ],
      "metadata": {
        "id": "qeLuiX4wyRNK"
      }
    },
    {
      "cell_type": "code",
      "source": [
        "\n",
        "\n",
        "def min_coins(coins, amount):\n",
        "    \"\"\"\n",
        "    Finds the minimum number of coins needed to make up a given amount using dynamic programming.\n",
        "\n",
        "    Parameters:\n",
        "    coins (list of int): Available coin denominations.\n",
        "    amount (int): Target amount to achieve.\n",
        "\n",
        "    Returns:\n",
        "    int: Minimum number of coins required, or -1 if not possible.\n",
        "    \"\"\"\n",
        "\n",
        "    dp = [float('inf')] * (amount + 1)\n",
        "    dp[0] = 0\n",
        "\n",
        "    for coin in coins:\n",
        "        for i in range(coin, amount + 1):\n",
        "            dp[i] = min(dp[i], dp[i - coin] + 1)\n",
        "\n",
        "    return dp[amount] if dp[amount] != float('inf') else -1\n",
        "\n",
        "# Testing\n",
        "coins = [1, 2, 5]\n",
        "amount = 11\n",
        "result = min_coins(coins, amount)\n",
        "print(f\"Minimum coins required is: {result}\")"
      ],
      "metadata": {
        "colab": {
          "base_uri": "https://localhost:8080/"
        },
        "id": "ud_ZHkdCyl8B",
        "outputId": "6bd55f86-2ce4-4788-d4fc-5aefbf70faa8"
      },
      "execution_count": 9,
      "outputs": [
        {
          "output_type": "stream",
          "name": "stdout",
          "text": [
            "Minimum coins required is: 3\n"
          ]
        }
      ]
    },
    {
      "cell_type": "markdown",
      "source": [
        "# Task 2 - LCS Problem"
      ],
      "metadata": {
        "id": "96w1a7pRy3wE"
      }
    },
    {
      "cell_type": "code",
      "source": [
        "\n",
        "\n",
        "def longest_common_subsequence(s1, s2):\n",
        "    \"\"\"\n",
        "    Finds the length and the actual Longest Common Subsequence (LCS) of two strings using dynamic programming.\n",
        "\n",
        "    Parameters:\n",
        "    s1 (str): First string.\n",
        "    s2 (str): Second string.\n",
        "\n",
        "    Returns:\n",
        "    int: Length of the LCS.\n",
        "    str: The LCS itself.\n",
        "    \"\"\"\n",
        "    m, n = len(s1), len(s2)\n",
        "\n",
        "    # 2D array to store LCS information\n",
        "    dp = [[\"\"] * (n + 1) for _ in range(m + 1)]\n",
        "\n",
        "    for i in range(1, m + 1):\n",
        "        for j in range(1, n + 1):\n",
        "            if s1[i - 1] == s2[j - 1]:  # If characters match\n",
        "                dp[i][j] = dp[i - 1][j - 1] + s1[i - 1]\n",
        "            else:  # If characters don't match, take the existing LCS\n",
        "                dp[i][j] = dp[i - 1][j] if len(dp[i - 1][j]) > len(dp[i][j - 1]) else dp[i][j - 1]\n",
        "\n",
        "    lcs_string = dp[m][n]\n",
        "    return len(lcs_string), lcs_string\n",
        "\n",
        "\n",
        "# Test case\n",
        "s1 = \"abcde\"\n",
        "s2 = \"ace\"\n",
        "lcs_length, lcs_string = longest_common_subsequence(s1, s2)\n",
        "print(f\"LCS length is {lcs_length}, and the LCS is '{lcs_string}'\")\n"
      ],
      "metadata": {
        "colab": {
          "base_uri": "https://localhost:8080/"
        },
        "id": "NL3S2ovEy8n3",
        "outputId": "fdb31682-6be9-434e-b308-547dafd92d9f"
      },
      "execution_count": 10,
      "outputs": [
        {
          "output_type": "stream",
          "name": "stdout",
          "text": [
            "LCS length is 3, and the LCS is 'ace'\n"
          ]
        }
      ]
    },
    {
      "cell_type": "markdown",
      "source": [
        "# Task 3 - 0/1 Knapsack Problem"
      ],
      "metadata": {
        "id": "-rQgjD6qzEEN"
      }
    },
    {
      "cell_type": "code",
      "source": [
        "\n",
        "\n",
        "def knapsack(weights, values, capacity):\n",
        "    \"\"\"\n",
        "    Solves the 0/1 Knapsack Problem using dynamic programming.\n",
        "\n",
        "    Parameters:\n",
        "    weights (list of int): List of item weights.\n",
        "    values (list of int): List of item values corresponding to the weights.\n",
        "    capacity (int): Maximum weight capacity of the knapsack.\n",
        "\n",
        "    Returns:\n",
        "    int: Maximum value that can be achieved within the given weight capacity.\n",
        "    \"\"\"\n",
        "    n = len(weights)\n",
        "\n",
        "    # 2D array initialized to 0\n",
        "    dp = [[0] * (capacity + 1) for _ in range(n + 1)]\n",
        "\n",
        "    for i in range(1, n + 1):\n",
        "        for w in range(1, capacity + 1):\n",
        "            if weights[i - 1] <= w:  # If the item can be included\n",
        "                # Max of including the item or not including it\n",
        "                dp[i][w] = max(dp[i - 1][w], values[i - 1] + dp[i - 1][w - weights[i - 1]])\n",
        "            else:\n",
        "                dp[i][w] = dp[i - 1][w]\n",
        "\n",
        "    return dp[n][capacity]\n",
        "\n",
        "\n",
        "# Test case\n",
        "weights = [1, 3, 4, 5]\n",
        "values = [1, 4, 5, 7]\n",
        "capacity = 7\n",
        "\n",
        "max_value = knapsack(weights, values, capacity)\n",
        "print(f\"Maximum value for the given capacity is {max_value}\")\n"
      ],
      "metadata": {
        "colab": {
          "base_uri": "https://localhost:8080/"
        },
        "id": "qtacjAWkzIje",
        "outputId": "a3cc8d9d-3cee-4053-91ff-616d8e7d7416"
      },
      "execution_count": 12,
      "outputs": [
        {
          "output_type": "stream",
          "name": "stdout",
          "text": [
            "Maximum value for the given capacity is 9\n"
          ]
        }
      ]
    }
  ]
}